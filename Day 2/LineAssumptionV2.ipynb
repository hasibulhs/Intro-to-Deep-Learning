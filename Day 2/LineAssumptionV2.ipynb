{
  "nbformat": 4,
  "nbformat_minor": 0,
  "metadata": {
    "colab": {
      "name": "LineAssumptionV2.ipynb",
      "provenance": [],
      "collapsed_sections": [],
      "authorship_tag": "ABX9TyPQMEMYvx5L2dFzRmSIFAmn"
    },
    "kernelspec": {
      "name": "python3",
      "display_name": "Python 3"
    },
    "language_info": {
      "name": "python"
    }
  },
  "cells": [
    {
      "cell_type": "code",
      "execution_count": 1,
      "metadata": {
        "id": "vC7sX8MCCnKJ"
      },
      "outputs": [],
      "source": [
        "import tensorflow as tf\n",
        "import numpy as np\n",
        "import matplotlib.pyplot as plt\n",
        "from IPython.display import clear_output\n",
        "import time"
      ]
    },
    {
      "cell_type": "markdown",
      "source": [
        "### Building a dataset"
      ],
      "metadata": {
        "id": "TNid9M3uDLbv"
      }
    },
    {
      "cell_type": "code",
      "source": [
        "Sx = np.array([0, 1, 2.5, 3, 4, 5], dtype=np.float32)\n",
        "Sy = np.array([0.6, 0, 2, 2.2, 4.7, 5], dtype=np.float32)\n",
        "\n",
        "# Plotting in graph\n",
        "plt.scatter(Sx, Sy, color='r')\n",
        "\n",
        "# Graph axis names and grids\n",
        "plt.grid(True)\n",
        "plt.xlabel('Sx')\n",
        "plt.ylabel('Sy')"
      ],
      "metadata": {
        "colab": {
          "base_uri": "https://localhost:8080/",
          "height": 296
        },
        "id": "Qr_UMG-lDNJl",
        "outputId": "48d8a18e-d916-4062-e9e1-3c57322bbf9a"
      },
      "execution_count": 2,
      "outputs": [
        {
          "output_type": "execute_result",
          "data": {
            "text/plain": [
              "Text(0, 0.5, 'Sy')"
            ]
          },
          "metadata": {},
          "execution_count": 2
        },
        {
          "output_type": "display_data",
          "data": {
            "text/plain": [
              "<Figure size 432x288 with 1 Axes>"
            ],
            "image/png": "[encoded data removed]"
          },
          "metadata": {
            "needs_background": "light"
          }
        }
      ]
    },
    {
      "cell_type": "markdown",
      "source": [
        "#### How can we get a line that goes through all the points given in the above graph?\n",
        "\n",
        "We can not achieve this using a single straight line. What if we can combine multiple straight lines?\n",
        "\n",
        "Lets assume a straight line \n",
        "\n",
        "$$y = wx + c$$\n",
        "\n",
        "We can build a polynomial by merging multiple straing lines using the the following equations:\n",
        "\n",
        "$$\n",
        "l_0 = \\sigma (w_0x + c_0) \\\\\n",
        "l_1 = \\sigma (w_1x + c_1) \\\\\n",
        "l_2 = w_2l_0 + w_3l_1 + c_2 \\\\\n",
        "$$\n",
        "Here,\n",
        "$$\n",
        "\\sigma(x) = \\frac{1}{1+e^{-x}}\n",
        "$$\n",
        "\n",
        "Now, $l_2$ is a polynomial with multiple straight lines."
      ],
      "metadata": {
        "id": "yw-NyXsFEMJc"
      }
    },
    {
      "cell_type": "code",
      "source": [
        "w0 = tf.Variable(1.2, dtype=tf.float32)\n",
        "w1 = tf.Variable(2, dtype=tf.float32)\n",
        "w2 = tf.Variable(-0.5, dtype=tf.float32)\n",
        "w3 = tf.Variable(1.2, dtype=tf.float32)\n",
        "w4 = tf.Variable(1.6, dtype=tf.float32)\n",
        "w5 = tf.Variable(0.8, dtype=tf.float32)\n",
        "w6 = tf.Variable(0.9, dtype=tf.float32)\n",
        "w7 = tf.Variable(1, dtype=tf.float32)\n",
        "w8 = tf.Variable(1.5, dtype=tf.float32)\n",
        "w9 = tf.Variable(0.6, dtype=tf.float32)\n",
        "w10 = tf.Variable(2, dtype=tf.float32)\n",
        "w11 = tf.Variable(0.9, dtype=tf.float32)\n",
        "w12 = tf.Variable(1.1, dtype=tf.float32)\n",
        "w13 = tf.Variable(0.6, dtype=tf.float32)\n",
        "w14 = tf.Variable(0.5, dtype=tf.float32)\n",
        "\n",
        "c0 = tf.Variable(1.2, dtype=tf.float32)\n",
        "c1 = tf.Variable(2, dtype=tf.float32)\n",
        "c2 = tf.Variable(0.8, dtype=tf.float32)\n",
        "c3 = tf.Variable(0.5, dtype=tf.float32)\n",
        "c4 = tf.Variable(0.2, dtype=tf.float32)\n",
        "c5 = tf.Variable(0.1, dtype=tf.float32)\n",
        "c6 = tf.Variable(1, dtype=tf.float32)\n",
        "\n",
        "def line_fn(x):\n",
        "  l0 = tf.nn.sigmoid(w0*x + c0)\n",
        "  l1 = tf.nn.sigmoid(w1*x + c1)\n",
        "  l2 = tf.nn.sigmoid(w2*x + c2)\n",
        "\n",
        "  l3 = tf.nn.sigmoid(w3*l0 + w4*l1 + w5*l2 + c3)\n",
        "  l4 = tf.nn.sigmoid(w6*l0 + w7*l1 + w8*l2 + c4)\n",
        "  l5 = tf.nn.sigmoid(w9*l0 + w10*l1 + w11*l2 + c5)\n",
        "\n",
        "  l6 = w12*l3 + w13*l4 + w14*l5 + c6\n",
        "\n",
        "  return l6"
      ],
      "metadata": {
        "id": "Tro21BrYEcxs"
      },
      "execution_count": 3,
      "outputs": []
    },
    {
      "cell_type": "code",
      "source": [
        "# A function which would plot the line\n",
        "def plot_line():\n",
        "    clear_output(wait=True)\n",
        "    p = np.arange(0, 5, 0.1)\n",
        "    plt.plot(p, line_fn(p).numpy(), color='g')\n",
        "\n",
        "    # Plotting in graph\n",
        "    plt.scatter(Sx, Sy, color='r')\n",
        "\n",
        "    # Graph axis names and grids\n",
        "    plt.grid(True)\n",
        "    plt.xlabel('Sx')\n",
        "    plt.ylabel('Sy')\n",
        "    plt.show()\n",
        "\n",
        "plot_line()"
      ],
      "metadata": {
        "colab": {
          "base_uri": "https://localhost:8080/",
          "height": 279
        },
        "id": "FIDrYXMsFKfE",
        "outputId": "64edb5f4-0a18-49f4-e3f8-ab3f95bb0876"
      },
      "execution_count": 4,
      "outputs": [
        {
          "output_type": "display_data",
          "data": {
            "text/plain": [
              "<Figure size 432x288 with 1 Axes>"
            ],
            "image/png": "[encoded data removed]"
          },
          "metadata": {
            "needs_background": "light"
          }
        }
      ]
    },
    {
      "cell_type": "markdown",
      "source": [
        "## Gradient descending algorithm:\n",
        "$$m_{t} = m_{t-1} - lr \\; \\frac{\\partial \\;\\; loss(l(x), y)}{\\partial m} $$\n",
        "\n",
        "$$loss(l(x), y) = (l(x) - y)^2$$\n",
        "\n",
        "#### Here,\n",
        "\n",
        "* $t$ = Time step\n",
        "* $x$ = Input\n",
        "* $y$ = Output\n",
        "* $m$ = Updatable variable\n",
        "* $loss(\\cdot, \\cdot)$ = Loss function\n",
        "* $lr$ = Learning rate\n",
        "* $l(\\cdot)$ = Line function"
      ],
      "metadata": {
        "id": "DXtQKkUyFbZP"
      }
    },
    {
      "cell_type": "code",
      "source": [
        "# learning rate\n",
        "lr = 1\n",
        "total_steps = 50000\n",
        "\n",
        "for step in range(total_steps):\n",
        "    #print(f\"Step {step+1:2}:\")\n",
        "    #print(\"-\"*30)\n",
        "\n",
        "    with tf.GradientTape() as tape:\n",
        "        # Stating what variables need to be partially differentiated and calibrated\n",
        "        tape.watch([w0, w1, w2, w3, w4, w5, w6, w7, w8, w9, w10, w11, w12, w13, w14, c0, c1, c2, c3, c4, c5, c6])\n",
        "\n",
        "        # Passing the points to the line function\n",
        "        pred_y = line_fn(Sx)\n",
        "\n",
        "        # Calculating the difference/loss of the output (pred_y) of the function\n",
        "        # w.r.t. the known output (Sy)\n",
        "        loss = (pred_y - Sy) * (pred_y - Sy)\n",
        "\n",
        "    # Calculating the gradients w.r.t. the partially diff. parameters\n",
        "    # and the generated output loss\n",
        "    grads = tape.gradient(loss, [w0, w1, w2, w3, w4, w5, w6, w7, w8, w9, w10, w11, w12, w13, w14, c0, c1, c2, c3, c4, c5, c6])\n",
        "    \n",
        "    # For some values, the gradient values can be very big, we call it \n",
        "    # exploding gradients. To tackle such problem we are clipping the values to 1\n",
        "    grads = tf.clip_by_norm(grads, 1)\n",
        "\n",
        "    # Updating the gradients\n",
        "    w0 = w0 - lr * grads[0]\n",
        "    w1 = w1 - lr * grads[1]\n",
        "    w2 = w2 - lr * grads[2]\n",
        "    w3 = w3 - lr * grads[3]\n",
        "    w4 = w4 - lr * grads[4]\n",
        "    w5 = w5 - lr * grads[5]\n",
        "    w6 = w6 - lr * grads[6]\n",
        "    w7 = w7 - lr * grads[7]\n",
        "    w8 = w8 - lr * grads[8]\n",
        "    w9 = w9 - lr * grads[9]\n",
        "    w10 = w10 - lr * grads[10]\n",
        "    w11 = w11 - lr * grads[11]\n",
        "    w12 = w12 - lr * grads[12]\n",
        "    w13 = w13 - lr * grads[13]\n",
        "    w14 = w14 - lr * grads[14]\n",
        "\n",
        "    c0 = c0 - lr * grads[15]\n",
        "    c1 = c1 - lr * grads[16]\n",
        "    c2 = c2 - lr * grads[17]\n",
        "    c3 = c3 - lr * grads[18]\n",
        "    c4 = c4 - lr * grads[19]\n",
        "    c5 = c5 - lr * grads[20]\n",
        "    c6 = c6 - lr * grads[21]\n",
        "    \n",
        "    if step%1000 == 0:\n",
        "        plot_line()\n",
        "        print(f\"Step {step+1:2}:\")\n",
        "        print(f\"Loss: {sum(loss)}\")\n",
        "        print(f\"Lr: {lr:.4f}\")\n",
        "        #time.sleep(0.25)\n",
        "        lr -= lr * 0.1"
      ],
      "metadata": {
        "colab": {
          "base_uri": "https://localhost:8080/",
          "height": 331
        },
        "id": "kEzFcu0EFh3o",
        "outputId": "eed9e955-c4f1-4c1e-9447-b1b89581ad05"
      },
      "execution_count": 5,
      "outputs": [
        {
          "output_type": "display_data",
          "data": {
            "text/plain": [
              "<Figure size 432x288 with 1 Axes>"
            ],
            "image/png": "[encoded data removed]"
          },
          "metadata": {
            "needs_background": "light"
          }
        },
        {
          "output_type": "stream",
          "name": "stdout",
          "text": [
            "Step 49001:\n",
            "Loss: 8.883171975782034e-14\n",
            "Lr: 0.0057\n"
          ]
        }
      ]
    },
    {
      "cell_type": "markdown",
      "source": [
        "## Lets check the final result"
      ],
      "metadata": {
        "id": "hR2V6YliJUQn"
      }
    },
    {
      "cell_type": "code",
      "source": [
        "plot_line()"
      ],
      "metadata": {
        "colab": {
          "base_uri": "https://localhost:8080/",
          "height": 279
        },
        "id": "7FNMkbAUJVxJ",
        "outputId": "0ed00aa5-d103-4817-c3c6-5e8a574f58ec"
      },
      "execution_count": 6,
      "outputs": [
        {
          "output_type": "display_data",
          "data": {
            "text/plain": [
              "<Figure size 432x288 with 1 Axes>"
            ],
            "image/png": "[encoded data removed]"
          },
          "metadata": {
            "needs_background": "light"
          }
        }
      ]
    }
  ]
}